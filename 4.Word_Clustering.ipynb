{
 "cells": [
  {
   "cell_type": "markdown",
   "id": "ab63f493",
   "metadata": {
    "papermill": {
     "duration": 0.016459,
     "end_time": "2022-07-31T18:43:05.098977",
     "exception": false,
     "start_time": "2022-07-31T18:43:05.082518",
     "status": "completed"
    },
    "tags": []
   },
   "source": [
    "## Кластеризация твитов о благотворительных фондах по темам"
   ]
  },
  {
   "cell_type": "markdown",
   "id": "07ef4ffd",
   "metadata": {
    "papermill": {
     "duration": 0.029287,
     "end_time": "2022-07-31T18:43:05.156237",
     "exception": false,
     "start_time": "2022-07-31T18:43:05.126950",
     "status": "completed"
    },
    "tags": []
   },
   "source": [
    "## "
   ]
  },
  {
   "cell_type": "code",
   "execution_count": 1,
   "id": "d348f6c9",
   "metadata": {
    "execution": {
     "iopub.execute_input": "2022-07-31T18:43:05.209101Z",
     "iopub.status.busy": "2022-07-31T18:43:05.208420Z",
     "iopub.status.idle": "2022-07-31T18:43:10.187469Z",
     "shell.execute_reply": "2022-07-31T18:43:10.186752Z",
     "shell.execute_reply.started": "2022-07-31T18:35:47.640697Z"
    },
    "papermill": {
     "duration": 5.005944,
     "end_time": "2022-07-31T18:43:10.187633",
     "exception": false,
     "start_time": "2022-07-31T18:43:05.181689",
     "status": "completed"
    },
    "tags": []
   },
   "outputs": [
    {
     "name": "stdout",
     "output_type": "stream",
     "text": [
      "RAPIDS 21.10.01\n"
     ]
    }
   ],
   "source": [
    "import pandas as pd, os\n",
    "import cudf, cuml, cupy\n",
    "from cuml.feature_extraction.text import TfidfVectorizer\n",
    "from cuml import KMeans\n",
    "from cuml import UMAP\n",
    "import matplotlib.pyplot as plt\n",
    "from tqdm import tqdm\n",
    "import numpy as np\n",
    "from nltk.corpus import stopwords as nltk_stopwords\n",
    "stopwords = set(nltk_stopwords.words('russian') )\n",
    "print('RAPIDS',cudf.__version__)"
   ]
  },
  {
   "cell_type": "code",
   "execution_count": 2,
   "id": "4c0adcde",
   "metadata": {
    "execution": {
     "iopub.execute_input": "2022-07-31T18:43:10.224538Z",
     "iopub.status.busy": "2022-07-31T18:43:10.223761Z",
     "iopub.status.idle": "2022-07-31T18:43:10.226221Z",
     "shell.execute_reply": "2022-07-31T18:43:10.225763Z",
     "shell.execute_reply.started": "2022-07-31T18:35:47.808600Z"
    },
    "papermill": {
     "duration": 0.022017,
     "end_time": "2022-07-31T18:43:10.226328",
     "exception": false,
     "start_time": "2022-07-31T18:43:10.204311",
     "status": "completed"
    },
    "tags": []
   },
   "outputs": [],
   "source": [
    "stopwords.update(['вольное','фонд','дело','яхты','эпизода'])"
   ]
  },
  {
   "cell_type": "markdown",
   "id": "2e331c96",
   "metadata": {
    "papermill": {
     "duration": 0.031892,
     "end_time": "2022-07-31T18:43:10.292582",
     "exception": false,
     "start_time": "2022-07-31T18:43:10.260690",
     "status": "completed"
    },
    "tags": []
   },
   "source": [
    "### Вольное дело"
   ]
  },
  {
   "cell_type": "code",
   "execution_count": 3,
   "id": "8fdccff3",
   "metadata": {
    "execution": {
     "iopub.execute_input": "2022-07-31T18:43:10.357053Z",
     "iopub.status.busy": "2022-07-31T18:43:10.356046Z",
     "iopub.status.idle": "2022-07-31T18:43:14.298285Z",
     "shell.execute_reply": "2022-07-31T18:43:14.297626Z",
     "shell.execute_reply.started": "2022-07-31T18:35:47.937984Z"
    },
    "papermill": {
     "duration": 3.979235,
     "end_time": "2022-07-31T18:43:14.298413",
     "exception": false,
     "start_time": "2022-07-31T18:43:10.319178",
     "status": "completed"
    },
    "tags": []
   },
   "outputs": [
    {
     "data": {
      "text/html": [
       "<div>\n",
       "<style scoped>\n",
       "    .dataframe tbody tr th:only-of-type {\n",
       "        vertical-align: middle;\n",
       "    }\n",
       "\n",
       "    .dataframe tbody tr th {\n",
       "        vertical-align: top;\n",
       "    }\n",
       "\n",
       "    .dataframe thead th {\n",
       "        text-align: right;\n",
       "    }\n",
       "</style>\n",
       "<table border=\"1\" class=\"dataframe\">\n",
       "  <thead>\n",
       "    <tr style=\"text-align: right;\">\n",
       "      <th></th>\n",
       "      <th>id</th>\n",
       "      <th>text</th>\n",
       "    </tr>\n",
       "  </thead>\n",
       "  <tbody>\n",
       "    <tr>\n",
       "      <th>0</th>\n",
       "      <td>874216234463768576</td>\n",
       "      <td>@svetlyak37</td>\n",
       "    </tr>\n",
       "    <tr>\n",
       "      <th>1</th>\n",
       "      <td>874213898748133376</td>\n",
       "      <td>@svetlyak37</td>\n",
       "    </tr>\n",
       "    <tr>\n",
       "      <th>2</th>\n",
       "      <td>656906259518636032</td>\n",
       "      <td>@svetlyak37 Принимаем заказы,  Наши координаты...</td>\n",
       "    </tr>\n",
       "    <tr>\n",
       "      <th>3</th>\n",
       "      <td>1338921861883813888</td>\n",
       "      <td>Студия Либо/Либо и фонд Олега Дерипаска «Вольн...</td>\n",
       "    </tr>\n",
       "    <tr>\n",
       "      <th>4</th>\n",
       "      <td>1321844306496421888</td>\n",
       "      <td>Робофест перешел в онлайн-формат  Фонд Олега Д...</td>\n",
       "    </tr>\n",
       "  </tbody>\n",
       "</table>\n",
       "</div>"
      ],
      "text/plain": [
       "                    id                                               text\n",
       "0   874216234463768576                                      @svetlyak37  \n",
       "1   874213898748133376                                      @svetlyak37  \n",
       "2   656906259518636032  @svetlyak37 Принимаем заказы,  Наши координаты...\n",
       "3  1338921861883813888  Студия Либо/Либо и фонд Олега Дерипаска «Вольн...\n",
       "4  1321844306496421888  Робофест перешел в онлайн-формат  Фонд Олега Д..."
      ]
     },
     "execution_count": 3,
     "metadata": {},
     "output_type": "execute_result"
    }
   ],
   "source": [
    "\"\"\"Загружаем данные \"\"\"\n",
    "data = pd.read_csv('../input/top20-russian-fonds-tweets/data_marked.csv')\n",
    "fond_data = data[data.fond_name == '\"Вольное дело\"']\n",
    "train_names = fond_data.id.to_list()\n",
    "train_texts = fond_data.tweet.to_list()\n",
    "train_text_df = cudf.DataFrame({'id': train_names, 'text': train_texts})\n",
    "train_text_df.head()"
   ]
  },
  {
   "cell_type": "code",
   "execution_count": 4,
   "id": "282c9ed4",
   "metadata": {
    "execution": {
     "iopub.execute_input": "2022-07-31T18:43:14.336686Z",
     "iopub.status.busy": "2022-07-31T18:43:14.336029Z",
     "iopub.status.idle": "2022-07-31T18:43:26.100574Z",
     "shell.execute_reply": "2022-07-31T18:43:26.101043Z",
     "shell.execute_reply.started": "2022-07-31T18:35:48.021279Z"
    },
    "papermill": {
     "duration": 11.786427,
     "end_time": "2022-07-31T18:43:26.101220",
     "exception": false,
     "start_time": "2022-07-31T18:43:14.314793",
     "status": "completed"
    },
    "tags": []
   },
   "outputs": [],
   "source": [
    "\"\"\"Получение векторных представлений текстов\"\"\"\n",
    "\n",
    "tfidf = TfidfVectorizer(stop_words=stopwords, binary=True, max_features=25_000)\n",
    "text_embeddings = tfidf.fit_transform(train_text_df.text).toarray()\n",
    "\n",
    "\"\"\" Понижение размерности\"\"\"\n",
    "umap = UMAP()\n",
    "embed_2d = umap.fit_transform(text_embeddings)\n",
    "embed_2d = cupy.asnumpy( embed_2d )"
   ]
  },
  {
   "cell_type": "markdown",
   "id": "5ff6967d",
   "metadata": {
    "papermill": {
     "duration": 0.015819,
     "end_time": "2022-07-31T18:43:26.135340",
     "exception": false,
     "start_time": "2022-07-31T18:43:26.119521",
     "status": "completed"
    },
    "tags": []
   },
   "source": [
    "#### Кластеризация текстов по темам"
   ]
  },
  {
   "cell_type": "code",
   "execution_count": 5,
   "id": "c2a22bf6",
   "metadata": {
    "execution": {
     "iopub.execute_input": "2022-07-31T18:43:26.172675Z",
     "iopub.status.busy": "2022-07-31T18:43:26.171895Z",
     "iopub.status.idle": "2022-07-31T18:43:26.191930Z",
     "shell.execute_reply": "2022-07-31T18:43:26.191471Z",
     "shell.execute_reply.started": "2022-07-31T18:35:48.360705Z"
    },
    "papermill": {
     "duration": 0.040764,
     "end_time": "2022-07-31T18:43:26.192043",
     "exception": false,
     "start_time": "2022-07-31T18:43:26.151279",
     "status": "completed"
    },
    "tags": []
   },
   "outputs": [],
   "source": [
    "n_clusters = 5\n",
    "kmeans = cuml.KMeans(n_clusters=n_clusters)\n",
    "kmeans.fit(embed_2d)\n",
    "train_text_df['cluster'] = kmeans.labels_"
   ]
  },
  {
   "cell_type": "markdown",
   "id": "cdb0a0fd",
   "metadata": {
    "papermill": {
     "duration": 0.015789,
     "end_time": "2022-07-31T18:43:26.224303",
     "exception": false,
     "start_time": "2022-07-31T18:43:26.208514",
     "status": "completed"
    },
    "tags": []
   },
   "source": [
    "#### Визуализация распределения текстов по темам\n"
   ]
  },
  {
   "cell_type": "code",
   "execution_count": 6,
   "id": "7adad09f",
   "metadata": {
    "execution": {
     "iopub.execute_input": "2022-07-31T18:43:26.269418Z",
     "iopub.status.busy": "2022-07-31T18:43:26.261662Z",
     "iopub.status.idle": "2022-07-31T18:43:27.864494Z",
     "shell.execute_reply": "2022-07-31T18:43:27.864928Z",
     "shell.execute_reply.started": "2022-07-31T18:35:48.378268Z"
    },
    "papermill": {
     "duration": 1.623074,
     "end_time": "2022-07-31T18:43:27.865075",
     "exception": false,
     "start_time": "2022-07-31T18:43:26.242001",
     "status": "completed"
    },
    "tags": []
   },
   "outputs": [
    {
     "data": {
      "image/png": "[encoded data removed]",
      "text/plain": [
       "<Figure size 720x720 with 1 Axes>"
      ]
     },
     "metadata": {
      "needs_background": "light"
     },
     "output_type": "display_data"
    }
   ],
   "source": [
    "centers = kmeans.cluster_centers_\n",
    "\n",
    "plt.figure(figsize=(10,10))\n",
    "plt.scatter(embed_2d[:,0], embed_2d[:,1], s=1, c=kmeans.labels_)\n",
    "plt.title(f'Фонд \"Вольная жизнь\".\\n Распределение текстов по {n_clusters} основным темам',size=16)\n",
    "\n",
    "for k in range(len(centers)):\n",
    "    mm = cupy.mean( text_embeddings[train_text_df.cluster.values==k],axis=0 )\n",
    "    ii = cupy.argmax(mm)\n",
    "    top_word = tfidf.vocabulary_.iloc[ii]\n",
    "    plt.text(centers[k,0]-1,centers[k,1]+0.75,f'{k+1}',size=16)\n",
    "\n",
    "plt.show()"
   ]
  },
  {
   "cell_type": "markdown",
   "id": "d79dcd1c",
   "metadata": {
    "papermill": {
     "duration": 0.016978,
     "end_time": "2022-07-31T18:43:27.899324",
     "exception": false,
     "start_time": "2022-07-31T18:43:27.882346",
     "status": "completed"
    },
    "tags": []
   },
   "source": [
    "#### Примеры текстов для каждой темы. \n",
    "Покажем три примера текста для каждой темы. Также отобразим пять самых важных слов для каждой темы."
   ]
  },
  {
   "cell_type": "code",
   "execution_count": 7,
   "id": "d75124a1",
   "metadata": {
    "execution": {
     "iopub.execute_input": "2022-07-31T18:43:27.942034Z",
     "iopub.status.busy": "2022-07-31T18:43:27.941214Z",
     "iopub.status.idle": "2022-07-31T18:43:29.351842Z",
     "shell.execute_reply": "2022-07-31T18:43:29.352540Z",
     "shell.execute_reply.started": "2022-07-31T18:35:48.661485Z"
    },
    "papermill": {
     "duration": 1.436295,
     "end_time": "2022-07-31T18:43:29.352911",
     "exception": false,
     "start_time": "2022-07-31T18:43:27.916616",
     "status": "completed"
    },
    "tags": []
   },
   "outputs": [
    {
     "name": "stdout",
     "output_type": "stream",
     "text": [
      "#########################\n",
      "### Тема 1\n",
      "### Топ 5 Слов ['олега' 'дерипаска' 'конкурс' 'объявляет' 'мгу']\n",
      "#########################\n",
      "---------- Пример 1 ----------\n",
      "Журнал \"Директор школы\" и Фонд Олега Дерипаска \"Вольное Дело\" выбрали 30 лучших директоров российских школ в...   \n",
      "\n",
      "---------- Пример 2 ----------\n",
      "Лучшие благотворительные фонды по версии журнала Forbes /  / 7. Фонд «Вольное дело» /  / Год основания: 2008 / Донор: Олег Дерипаска / Бюджет: 685 млн руб. / Итоговый балл: 60,37 /  / Фонд проводит фестиваль научно-технического творчества PROFES..   \n",
      "\n",
      "---------- Пример 3 ----------\n",
      "Фонд Олега Дерипаска «Вольное Дело», один из крупнейших в России частных благотворительных фондов, объявляет об открытии первого в Сочи \n",
      "\n",
      "#########################\n",
      "### Тема 2\n",
      "### Топ 5 Слов ['суд' 'навального' 'дерипаска' 'подает' 'пенсионный']\n",
      "#########################\n",
      "---------- Пример 1 ----------\n",
      "Фонд Навального закликає Австрію заморозити «готель Дерипаски» в Лех-ам-Арльберзі   \n",
      "\n",
      "---------- Пример 2 ----------\n",
      "@NakolenkeTV Конечно занимается. Дерипаска помогает, Сечина, Ротенбергам. А фонд называется - Бюджет Российской Федерации. \n",
      "\n",
      "---------- Пример 3 ----------\n",
      "Генеральный директор Фонд Олега Дерипаска \"Вольное Дело\" Тамара Румянцева: \"...Краснодарцы - удивительные люди,...   \n",
      "\n",
      "#########################\n",
      "### Тема 3\n",
      "### Топ 5 Слов ['дерипаски' 'олега' 'передал' 'дерипаска' 'средства']\n",
      "#########################\n",
      "---------- Пример 1 ----------\n",
      "@famiak Ну как минимум есть фонд национального благосостояния, который в любой кризис идёт на поддержку людей типа Дерипаски, а сейчас можно было бы пустить его на выплаты людям сидящим без работы и денег \n",
      "\n",
      "---------- Пример 2 ----------\n",
      "Австралия ввела санкции против 11 банков и госучреждений России, включая Фонд национального благосостояния, Минфина РФ и бизнесменов Олега Дерипаски и Виктора Вексельберга.   \n",
      "\n",
      "---------- Пример 3 ----------\n",
      "Борис Немцов - немного о русофобии и бизнесе дружков Путина.  \"Кому помог Путин? Как зовут его? Дерипаска. Сколько он дал денег этому несчастному нищему парню? Это пенсионные деньги. Он залез в Фонд национального благосостояния и вытащил оттуда 4,5 млрд: \"Олежка, на, получи.\"   \n",
      "\n",
      "#########################\n",
      "### Тема 4\n",
      "### Топ 5 Слов ['олега' 'собак' 'дерипаски' 'поддержки' 'фестиваль']\n",
      "#########################\n",
      "---------- Пример 1 ----------\n",
      "Фонд Олега Дерипаска «Вольное дело» провел в Москве X Всероссийский технологический фестиваль PROFEST! С 7 по 9...   \n",
      "\n",
      "---------- Пример 2 ----------\n",
      "#сетевойэтомое  Умный стол, экодом и робот-охранник  Фонд поддержки социальных инноваций «Вольное Дело», созданный по инициативе бизнесмена Олега Дерипаски, подвел итоги ХI Всероссийского...   \n",
      "\n",
      "---------- Пример 3 ----------\n",
      "Фонд Олега Дерипаска «Вольное Дело» открыл фотовыставку питомцев приюта «ПовоДОГ» в Международном аэропорту Сочи...   \n",
      "\n",
      "#########################\n",
      "### Тема 5\n",
      "### Топ 5 Слов ['призовой' 'санкциях' 'против' '600' 'олег']\n",
      "#########################\n",
      "---------- Пример 1 ----------\n",
      "@svetlyak37   \n",
      "\n",
      "---------- Пример 2 ----------\n",
      "Олег Дерипаска запустил фонд по поддержке расследования о санкциях против него   \n",
      "\n",
      "---------- Пример 3 ----------\n",
      "Предприятие российского олигарха Дерипаски,складирует на Николаевщине токсиносодержащие отходы,чтобы избежать лишних разбирательств,перечисляет в фонд николаевскогоСБУ,полиции+прокуратуры от 20до40 тыс. грн.ежемесячно.  \n",
      "\n"
     ]
    }
   ],
   "source": [
    "for k in range(n_clusters):\n",
    "    mm = cupy.mean( text_embeddings[train_text_df.cluster.values==k],axis=0 )\n",
    "    ii = cupy.asnumpy( cupy.argsort(mm)[-5:][::-1] )\n",
    "    top_words = tfidf.vocabulary_.to_array()[ii]\n",
    "    print('#'*25)\n",
    "    print(f'### Тема {k+1}')\n",
    "    print('### Топ 5 Слов',top_words)\n",
    "    print('#'*25)\n",
    "    tmp = train_text_df.loc[train_text_df.cluster==k].sample(3, random_state=123)\n",
    "    for j in range(3):\n",
    "        txt = tmp.iloc[j,1]\n",
    "        print('-'*10,f'Пример {j+1}','-'*10)\n",
    "        print(txt,'\\n')"
   ]
  },
  {
   "cell_type": "markdown",
   "id": "bf5410f0",
   "metadata": {
    "papermill": {
     "duration": 0.032612,
     "end_time": "2022-07-31T18:43:29.420090",
     "exception": false,
     "start_time": "2022-07-31T18:43:29.387478",
     "status": "completed"
    },
    "tags": []
   },
   "source": [
    "### Фонд Тимченко"
   ]
  },
  {
   "cell_type": "code",
   "execution_count": 8,
   "id": "198bd19f",
   "metadata": {
    "execution": {
     "iopub.execute_input": "2022-07-31T18:43:29.491989Z",
     "iopub.status.busy": "2022-07-31T18:43:29.491160Z",
     "iopub.status.idle": "2022-07-31T18:43:29.510394Z",
     "shell.execute_reply": "2022-07-31T18:43:29.511071Z",
     "shell.execute_reply.started": "2022-07-31T18:35:48.812462Z"
    },
    "papermill": {
     "duration": 0.057765,
     "end_time": "2022-07-31T18:43:29.511218",
     "exception": false,
     "start_time": "2022-07-31T18:43:29.453453",
     "status": "completed"
    },
    "tags": []
   },
   "outputs": [
    {
     "data": {
      "text/html": [
       "<div>\n",
       "<style scoped>\n",
       "    .dataframe tbody tr th:only-of-type {\n",
       "        vertical-align: middle;\n",
       "    }\n",
       "\n",
       "    .dataframe tbody tr th {\n",
       "        vertical-align: top;\n",
       "    }\n",
       "\n",
       "    .dataframe thead th {\n",
       "        text-align: right;\n",
       "    }\n",
       "</style>\n",
       "<table border=\"1\" class=\"dataframe\">\n",
       "  <thead>\n",
       "    <tr style=\"text-align: right;\">\n",
       "      <th></th>\n",
       "      <th>id</th>\n",
       "      <th>text</th>\n",
       "    </tr>\n",
       "  </thead>\n",
       "  <tbody>\n",
       "    <tr>\n",
       "      <th>0</th>\n",
       "      <td>1126162204062114048</td>\n",
       "      <td>«Уютное местечко» — многофункциональная площад...</td>\n",
       "    </tr>\n",
       "    <tr>\n",
       "      <th>1</th>\n",
       "      <td>1122891590975000960</td>\n",
       "      <td>История Фонда Елены и Геннадия Тимченко начала...</td>\n",
       "    </tr>\n",
       "    <tr>\n",
       "      <th>2</th>\n",
       "      <td>1121451651863326976</td>\n",
       "      <td>Беседы о возрасте – цикл встреч с известными л...</td>\n",
       "    </tr>\n",
       "    <tr>\n",
       "      <th>3</th>\n",
       "      <td>1120357438585176064</td>\n",
       "      <td>В переулке мечты города Губахи Пермского края ...</td>\n",
       "    </tr>\n",
       "    <tr>\n",
       "      <th>4</th>\n",
       "      <td>1118173948078850048</td>\n",
       "      <td>Нам всё больше нравится термин «Young Old», и ...</td>\n",
       "    </tr>\n",
       "  </tbody>\n",
       "</table>\n",
       "</div>"
      ],
      "text/plain": [
       "                    id                                               text\n",
       "0  1126162204062114048  «Уютное местечко» — многофункциональная площад...\n",
       "1  1122891590975000960  История Фонда Елены и Геннадия Тимченко начала...\n",
       "2  1121451651863326976  Беседы о возрасте – цикл встреч с известными л...\n",
       "3  1120357438585176064  В переулке мечты города Губахи Пермского края ...\n",
       "4  1118173948078850048  Нам всё больше нравится термин «Young Old», и ..."
      ]
     },
     "execution_count": 8,
     "metadata": {},
     "output_type": "execute_result"
    }
   ],
   "source": [
    "\"\"\"Загружаем данные \"\"\"\n",
    "fond_data = data[data.fond_name == 'Фонд Тимченко']\n",
    "train_names = fond_data.id.to_list()\n",
    "train_texts = fond_data.tweet.to_list()\n",
    "train_text_df = cudf.DataFrame({'id': train_names, 'text': train_texts})\n",
    "train_text_df.head()"
   ]
  },
  {
   "cell_type": "code",
   "execution_count": 9,
   "id": "da8f81d9",
   "metadata": {
    "execution": {
     "iopub.execute_input": "2022-07-31T18:43:29.581217Z",
     "iopub.status.busy": "2022-07-31T18:43:29.580328Z",
     "iopub.status.idle": "2022-07-31T18:43:29.873872Z",
     "shell.execute_reply": "2022-07-31T18:43:29.873332Z",
     "shell.execute_reply.started": "2022-07-31T18:35:48.842969Z"
    },
    "papermill": {
     "duration": 0.331685,
     "end_time": "2022-07-31T18:43:29.873998",
     "exception": false,
     "start_time": "2022-07-31T18:43:29.542313",
     "status": "completed"
    },
    "tags": []
   },
   "outputs": [],
   "source": [
    "\"\"\"Получение векторных представлений текстов\"\"\"\n",
    "\n",
    "tfidf = TfidfVectorizer(stop_words=stopwords, binary=True, max_features=25_000)\n",
    "text_embeddings = tfidf.fit_transform(train_text_df.text).toarray()\n",
    "\n",
    "\"\"\" Понижение размерности\"\"\"\n",
    "umap = UMAP()\n",
    "embed_2d = umap.fit_transform(text_embeddings)\n",
    "embed_2d = cupy.asnumpy( embed_2d )"
   ]
  },
  {
   "cell_type": "code",
   "execution_count": 10,
   "id": "a4598a9d",
   "metadata": {
    "execution": {
     "iopub.execute_input": "2022-07-31T18:43:29.916010Z",
     "iopub.status.busy": "2022-07-31T18:43:29.915411Z",
     "iopub.status.idle": "2022-07-31T18:43:29.924495Z",
     "shell.execute_reply": "2022-07-31T18:43:29.924082Z",
     "shell.execute_reply.started": "2022-07-31T18:35:49.168705Z"
    },
    "papermill": {
     "duration": 0.031889,
     "end_time": "2022-07-31T18:43:29.924604",
     "exception": false,
     "start_time": "2022-07-31T18:43:29.892715",
     "status": "completed"
    },
    "tags": []
   },
   "outputs": [],
   "source": [
    "n_clusters = 3\n",
    "kmeans = cuml.KMeans(n_clusters=n_clusters)\n",
    "kmeans.fit(embed_2d)\n",
    "train_text_df['cluster'] = kmeans.labels_"
   ]
  },
  {
   "cell_type": "code",
   "execution_count": 11,
   "id": "d5f8b712",
   "metadata": {
    "execution": {
     "iopub.execute_input": "2022-07-31T18:43:29.982943Z",
     "iopub.status.busy": "2022-07-31T18:43:29.973991Z",
     "iopub.status.idle": "2022-07-31T18:43:30.172164Z",
     "shell.execute_reply": "2022-07-31T18:43:30.172612Z",
     "shell.execute_reply.started": "2022-07-31T18:35:49.185826Z"
    },
    "papermill": {
     "duration": 0.229978,
     "end_time": "2022-07-31T18:43:30.172765",
     "exception": false,
     "start_time": "2022-07-31T18:43:29.942787",
     "status": "completed"
    },
    "tags": []
   },
   "outputs": [
    {
     "data": {
      "image/png": "[encoded data removed]",
      "text/plain": [
       "<Figure size 720x720 with 1 Axes>"
      ]
     },
     "metadata": {
      "needs_background": "light"
     },
     "output_type": "display_data"
    }
   ],
   "source": [
    "centers = kmeans.cluster_centers_\n",
    "\n",
    "plt.figure(figsize=(10,10))\n",
    "plt.scatter(embed_2d[:,0], embed_2d[:,1], s=1, c=kmeans.labels_)\n",
    "plt.title(f'Фонд Тимченко.\\n Распределение текстов по {n_clusters} основным темам',size=16)\n",
    "\n",
    "for k in range(len(centers)):\n",
    "    mm = cupy.mean( text_embeddings[train_text_df.cluster.values==k],axis=0 )\n",
    "    ii = cupy.argmax(mm)\n",
    "    top_word = tfidf.vocabulary_.iloc[ii]\n",
    "    plt.text(centers[k,0]-1,centers[k,1]+0.75,f'{k+1}',size=16)\n",
    " \n",
    "plt.show()"
   ]
  },
  {
   "cell_type": "code",
   "execution_count": 12,
   "id": "640af7fb",
   "metadata": {
    "execution": {
     "iopub.execute_input": "2022-07-31T18:43:30.220275Z",
     "iopub.status.busy": "2022-07-31T18:43:30.219421Z",
     "iopub.status.idle": "2022-07-31T18:43:30.283361Z",
     "shell.execute_reply": "2022-07-31T18:43:30.283772Z",
     "shell.execute_reply.started": "2022-07-31T18:35:49.478399Z"
    },
    "papermill": {
     "duration": 0.091462,
     "end_time": "2022-07-31T18:43:30.283944",
     "exception": false,
     "start_time": "2022-07-31T18:43:30.192482",
     "status": "completed"
    },
    "tags": []
   },
   "outputs": [
    {
     "name": "stdout",
     "output_type": "stream",
     "text": [
      "#########################\n",
      "### Тема 1\n",
      "### Топ 5 Слов ['новоепоколение' 'фондтимченко' 'резьбаподереву' 'маджалис' 'foto']\n",
      "#########################\n",
      "---------- Пример 1 ----------\n",
      "Тур по Гунибу, по Гамсутлю  От тур фирмы etnotur . Эрганайское водохранилище  . Скоро выложу полное видео  . А также можете подписаться на наш ютуб канал ссылка в шапке профиля 👆 . . . #новоепоколение #фондТимченко…   \n",
      "\n",
      "---------- Пример 2 ----------\n",
      "Из за прибрежных скал создаётся впечатление что море течет по ступенькам  . . . #новоепоколение #фондТимченко #море #siberia #argentina #резьбаподереву #маджалис #Dji #djmalik #djiphantom4 #djimavicair #djispark…   \n",
      "\n",
      "---------- Пример 3 ----------\n",
      "Селение призрак Гамсутль ⛰ Вчера ездили в тур  Гуниб  Гамсутль Скоро будет много интересного видео repost лайки комментарии приветствуются друзья не стесняйтесь 😊 Подержите групп 🤝 . . . #новоепоколение #фондТимченко…   \n",
      "\n",
      "#########################\n",
      "### Тема 2\n",
      "### Топ 5 Слов ['елены' 'геннадия' 'благотворительный' 'тимченко' 'стажировок']\n",
      "#########################\n",
      "---------- Пример 1 ----------\n",
      "Дорогие друзья, у нас хорошая новость!  Благотворительный фонд Елены и Геннадия Тимченко объявляет старт III...   \n",
      "\n",
      "---------- Пример 2 ----------\n",
      "Напоминаем победителям конкурса \"Культурная мозаика\"   24 июля Благотворительный фонд Елены и Геннадия Тимченко...   \n",
      "\n",
      "---------- Пример 3 ----------\n",
      "«Курс на семью» теперь и в Волоколамском городском округе  Благотворительный фонд Елены и Геннадия Тимченко приглашает организации и родителей Волоколамского городского округа принять участие в конкурсе \"Курс на семью\"     \n",
      "\n",
      "#########################\n",
      "### Тема 3\n",
      "### Топ 5 Слов ['тимченко' 'благотворительный' 'геннадия' 'елены' 'конкурс']\n",
      "#########################\n",
      "---------- Пример 1 ----------\n",
      "Музей хоккея и Благотворительный фонд Елены и Геннадия Тимченко объявили о начале сотрудничества   \n",
      "\n",
      "---------- Пример 2 ----------\n",
      "Воспитанники детских домов и школ-интернатов Ярославской области стали зрителями необычных гастролей. В ноябре проект «Школа семейного театра» АНО «АСП «Моя семья» - победитель конкурса «Семейный фарватер»...   \n",
      "\n",
      "---------- Пример 3 ----------\n",
      "#Спектр_новости /  / ⏰12 января 2019 года туляков приглашают на Губернский каток. /  / Благотворительный фонд Елены и Геннадия Тимченко, Федерация хоккея России, комитет Тульской области по спорту и региональная общественная организация «Спорти..   \n",
      "\n"
     ]
    }
   ],
   "source": [
    "for k in range(n_clusters):\n",
    "    mm = cupy.mean( text_embeddings[train_text_df.cluster.values==k],axis=0 )\n",
    "    ii = cupy.asnumpy( cupy.argsort(mm)[-5:][::-1] )\n",
    "    top_words = tfidf.vocabulary_.to_array()[ii]\n",
    "    print('#'*25)\n",
    "    print(f'### Тема {k+1}')\n",
    "    print('### Топ 5 Слов',top_words)\n",
    "    print('#'*25)\n",
    "    tmp = train_text_df.loc[train_text_df.cluster==k].sample(3, random_state=123)\n",
    "    for j in range(3):\n",
    "        txt = tmp.iloc[j,1]\n",
    "        print('-'*10,f'Пример {j+1}','-'*10)\n",
    "        print(txt,'\\n')"
   ]
  },
  {
   "cell_type": "markdown",
   "id": "384e0f6a",
   "metadata": {
    "papermill": {
     "duration": 0.019584,
     "end_time": "2022-07-31T18:43:30.323669",
     "exception": false,
     "start_time": "2022-07-31T18:43:30.304085",
     "status": "completed"
    },
    "tags": []
   },
   "source": [
    "### Фонд \"Подари жизнь\""
   ]
  },
  {
   "cell_type": "code",
   "execution_count": 13,
   "id": "8120d3f9",
   "metadata": {
    "execution": {
     "iopub.execute_input": "2022-07-31T18:43:30.374533Z",
     "iopub.status.busy": "2022-07-31T18:43:30.373212Z",
     "iopub.status.idle": "2022-07-31T18:43:30.385445Z",
     "shell.execute_reply": "2022-07-31T18:43:30.385813Z",
     "shell.execute_reply.started": "2022-07-31T18:35:49.579531Z"
    },
    "papermill": {
     "duration": 0.042031,
     "end_time": "2022-07-31T18:43:30.386004",
     "exception": false,
     "start_time": "2022-07-31T18:43:30.343973",
     "status": "completed"
    },
    "tags": []
   },
   "outputs": [
    {
     "data": {
      "text/html": [
       "<div>\n",
       "<style scoped>\n",
       "    .dataframe tbody tr th:only-of-type {\n",
       "        vertical-align: middle;\n",
       "    }\n",
       "\n",
       "    .dataframe tbody tr th {\n",
       "        vertical-align: top;\n",
       "    }\n",
       "\n",
       "    .dataframe thead th {\n",
       "        text-align: right;\n",
       "    }\n",
       "</style>\n",
       "<table border=\"1\" class=\"dataframe\">\n",
       "  <thead>\n",
       "    <tr style=\"text-align: right;\">\n",
       "      <th></th>\n",
       "      <th>id</th>\n",
       "      <th>text</th>\n",
       "    </tr>\n",
       "  </thead>\n",
       "  <tbody>\n",
       "    <tr>\n",
       "      <th>0</th>\n",
       "      <td>1436210423615853056</td>\n",
       "      <td>Ангелина в 13 лет хорошо разбирается в названи...</td>\n",
       "    </tr>\n",
       "    <tr>\n",
       "      <th>1</th>\n",
       "      <td>1435183032546299904</td>\n",
       "      <td>Восемь прекрасных женщин рассказали, почему он...</td>\n",
       "    </tr>\n",
       "    <tr>\n",
       "      <th>2</th>\n",
       "      <td>1432627263636446976</td>\n",
       "      <td>В Красноярске откроется отделение трансплантац...</td>\n",
       "    </tr>\n",
       "    <tr>\n",
       "      <th>3</th>\n",
       "      <td>1431264705851624960</td>\n",
       "      <td>Здоровый образ жизни не спасет от рака, но рис...</td>\n",
       "    </tr>\n",
       "    <tr>\n",
       "      <th>4</th>\n",
       "      <td>1431264604231974912</td>\n",
       "      <td>Дарина сказала: «Живите так, как будто я рядом»</td>\n",
       "    </tr>\n",
       "  </tbody>\n",
       "</table>\n",
       "</div>"
      ],
      "text/plain": [
       "                    id                                               text\n",
       "0  1436210423615853056  Ангелина в 13 лет хорошо разбирается в названи...\n",
       "1  1435183032546299904  Восемь прекрасных женщин рассказали, почему он...\n",
       "2  1432627263636446976  В Красноярске откроется отделение трансплантац...\n",
       "3  1431264705851624960  Здоровый образ жизни не спасет от рака, но рис...\n",
       "4  1431264604231974912  Дарина сказала: «Живите так, как будто я рядом»  "
      ]
     },
     "execution_count": 13,
     "metadata": {},
     "output_type": "execute_result"
    }
   ],
   "source": [
    "\"\"\"Загружаем данные \"\"\"\n",
    "fond_data = data[data.fond_name == '\"Подари жизнь\"']\n",
    "train_names = fond_data.id.to_list()\n",
    "train_texts = fond_data.tweet.to_list()\n",
    "train_text_df = cudf.DataFrame({'id': train_names, 'text': train_texts})\n",
    "train_text_df.head()"
   ]
  },
  {
   "cell_type": "code",
   "execution_count": 14,
   "id": "155bdba9",
   "metadata": {
    "execution": {
     "iopub.execute_input": "2022-07-31T18:43:30.431990Z",
     "iopub.status.busy": "2022-07-31T18:43:30.431197Z",
     "iopub.status.idle": "2022-07-31T18:43:30.691016Z",
     "shell.execute_reply": "2022-07-31T18:43:30.690480Z",
     "shell.execute_reply.started": "2022-07-31T18:35:49.610521Z"
    },
    "papermill": {
     "duration": 0.284999,
     "end_time": "2022-07-31T18:43:30.691159",
     "exception": false,
     "start_time": "2022-07-31T18:43:30.406160",
     "status": "completed"
    },
    "tags": []
   },
   "outputs": [],
   "source": [
    "\"\"\"Получение векторных представлений текстов\"\"\"\n",
    "\n",
    "tfidf = TfidfVectorizer(stop_words=stopwords, binary=True, max_features=25_000)\n",
    "text_embeddings = tfidf.fit_transform(train_text_df.text).toarray()\n",
    "\n",
    "\"\"\" Понижение размерности\"\"\"\n",
    "umap = UMAP()\n",
    "embed_2d = umap.fit_transform(text_embeddings)\n",
    "embed_2d = cupy.asnumpy( embed_2d )"
   ]
  },
  {
   "cell_type": "code",
   "execution_count": 15,
   "id": "f09d61d0",
   "metadata": {
    "execution": {
     "iopub.execute_input": "2022-07-31T18:43:30.737411Z",
     "iopub.status.busy": "2022-07-31T18:43:30.736584Z",
     "iopub.status.idle": "2022-07-31T18:43:30.744497Z",
     "shell.execute_reply": "2022-07-31T18:43:30.744081Z",
     "shell.execute_reply.started": "2022-07-31T18:35:49.932566Z"
    },
    "papermill": {
     "duration": 0.032874,
     "end_time": "2022-07-31T18:43:30.744610",
     "exception": false,
     "start_time": "2022-07-31T18:43:30.711736",
     "status": "completed"
    },
    "tags": []
   },
   "outputs": [],
   "source": [
    "n_clusters = 3\n",
    "kmeans = cuml.KMeans(n_clusters=n_clusters)\n",
    "kmeans.fit(embed_2d)\n",
    "train_text_df['cluster'] = kmeans.labels_"
   ]
  },
  {
   "cell_type": "code",
   "execution_count": 16,
   "id": "dbe61844",
   "metadata": {
    "execution": {
     "iopub.execute_input": "2022-07-31T18:43:30.792650Z",
     "iopub.status.busy": "2022-07-31T18:43:30.791841Z",
     "iopub.status.idle": "2022-07-31T18:43:30.994965Z",
     "shell.execute_reply": "2022-07-31T18:43:30.994515Z",
     "shell.execute_reply.started": "2022-07-31T18:35:49.948802Z"
    },
    "papermill": {
     "duration": 0.230196,
     "end_time": "2022-07-31T18:43:30.995092",
     "exception": false,
     "start_time": "2022-07-31T18:43:30.764896",
     "status": "completed"
    },
    "tags": []
   },
   "outputs": [
    {
     "data": {
      "image/png": "[encoded data removed]",
      "text/plain": [
       "<Figure size 720x720 with 1 Axes>"
      ]
     },
     "metadata": {
      "needs_background": "light"
     },
     "output_type": "display_data"
    }
   ],
   "source": [
    "centers = kmeans.cluster_centers_\n",
    "\n",
    "plt.figure(figsize=(10,10))\n",
    "plt.scatter(embed_2d[:,0], embed_2d[:,1], s=1, c=kmeans.labels_)\n",
    "plt.title(f'Фонд \"Подари жизнь\".\\n Распределение текстов по {n_clusters} основным темам',size=16)\n",
    "\n",
    "for k in range(len(centers)):\n",
    "    mm = cupy.mean( text_embeddings[train_text_df.cluster.values==k],axis=0 )\n",
    "    ii = cupy.argmax(mm)\n",
    "    top_word = tfidf.vocabulary_.iloc[ii]\n",
    "    plt.text(centers[k,0]-1,centers[k,1]+0.75,f'{k+1}',size=16)\n",
    "    \n",
    "\n",
    "plt.show()"
   ]
  },
  {
   "cell_type": "code",
   "execution_count": 17,
   "id": "c3b10060",
   "metadata": {
    "execution": {
     "iopub.execute_input": "2022-07-31T18:43:31.045968Z",
     "iopub.status.busy": "2022-07-31T18:43:31.045175Z",
     "iopub.status.idle": "2022-07-31T18:43:31.105974Z",
     "shell.execute_reply": "2022-07-31T18:43:31.106389Z",
     "shell.execute_reply.started": "2022-07-31T18:35:50.232528Z"
    },
    "papermill": {
     "duration": 0.089645,
     "end_time": "2022-07-31T18:43:31.106529",
     "exception": false,
     "start_time": "2022-07-31T18:43:31.016884",
     "status": "completed"
    },
    "tags": []
   },
   "outputs": [
    {
     "name": "stdout",
     "output_type": "stream",
     "text": [
      "#########################\n",
      "### Тема 1\n",
      "### Топ 5 Слов ['год' 'рублей' 'фонда' 'миллиарда' 'известного']\n",
      "#########################\n",
      "---------- Пример 1 ----------\n",
      "Дебиторская задолженность фонда «Подари жизнь», известного как фонд актрисы Чулпан Хаматовой, за 2021 год составила более одного миллиарда рублей.   \n",
      "\n",
      "---------- Пример 2 ----------\n",
      "Дебиторская задолженность фонда «Подари жизнь», известного как фонд актрисы Чулпан Хаматовой, за 2021 год составила более одного миллиарда рублей.   \n",
      "\n",
      "---------- Пример 3 ----------\n",
      "Дебиторская задолженность фонда «Подари жизнь», известного как фонд актрисы Чулпан Хаматовой, за 2021 год составила более одного миллиарда рублей.   \n",
      "\n",
      "#########################\n",
      "### Тема 2\n",
      "### Топ 5 Слов ['podarizhizn' 'подари' 'жизнь' 'жизни' 'rarible']\n",
      "#########################\n",
      "---------- Пример 1 ----------\n",
      "Благотворительные фонды, такие как Алеша, Подари жизнь, Линия жизни и другие. Что думаете?  \n",
      "\n",
      "---------- Пример 2 ----------\n",
      "L'actrice  Tchoulpane Khamatova @ChulpanHamatova, et bienfaitrice du fond @podarizhizn, quitte la Russie pour la Lettonie.  Ça commence à faire beaucoup, non ? \n",
      "\n",
      "---------- Пример 3 ----------\n",
      "Я хочу быть полезна людям   \n",
      "\n",
      "#########################\n",
      "### Тема 3\n",
      "### Топ 5 Слов ['подари' 'жизнь' 'акция' 'дима' 'это']\n",
      "#########################\n",
      "---------- Пример 1 ----------\n",
      "Фонд «Подари жизнь» попросил разрешить молодым людям с гематологическими заболеваниями лечиться в детской системе здравоохранения до 21 года  Читайте в нашей новости   \n",
      "\n",
      "---------- Пример 2 ----------\n",
      "В Красноярске откроется отделение трансплантации костного мозга. Детям не придется ехать в Москву или Петербург.   \n",
      "\n",
      "---------- Пример 3 ----------\n",
      "Фонд «подари жизнь», такую хуйню могли выдумать только безумные рашисты \n",
      "\n"
     ]
    }
   ],
   "source": [
    "for k in range(n_clusters):\n",
    "    mm = cupy.mean( text_embeddings[train_text_df.cluster.values==k],axis=0 )\n",
    "    ii = cupy.asnumpy( cupy.argsort(mm)[-5:][::-1] )\n",
    "    top_words = tfidf.vocabulary_.to_array()[ii]\n",
    "    print('#'*25)\n",
    "    print(f'### Тема {k+1}')\n",
    "    print('### Топ 5 Слов',top_words)\n",
    "    print('#'*25)\n",
    "    tmp = train_text_df.loc[train_text_df.cluster==k].sample(3, random_state=123)\n",
    "    for j in range(3):\n",
    "        txt = tmp.iloc[j,1]\n",
    "        print('-'*10,f'Пример {j+1}','-'*10)\n",
    "        print(txt,'\\n')"
   ]
  }
 ],
 "metadata": {
  "kernelspec": {
   "display_name": "Python 3",
   "language": "python",
   "name": "python3"
  },
  "language_info": {
   "codemirror_mode": {
    "name": "ipython",
    "version": 3
   },
   "file_extension": ".py",
   "mimetype": "text/x-python",
   "name": "python",
   "nbconvert_exporter": "python",
   "pygments_lexer": "ipython3",
   "version": "3.7.12"
  },
  "papermill": {
   "default_parameters": {},
   "duration": 35.679895,
   "end_time": "2022-07-31T18:43:32.539129",
   "environment_variables": {},
   "exception": null,
   "input_path": "__notebook__.ipynb",
   "output_path": "__notebook__.ipynb",
   "parameters": {},
   "start_time": "2022-07-31T18:42:56.859234",
   "version": "2.3.3"
  }
 },
 "nbformat": 4,
 "nbformat_minor": 5
}
